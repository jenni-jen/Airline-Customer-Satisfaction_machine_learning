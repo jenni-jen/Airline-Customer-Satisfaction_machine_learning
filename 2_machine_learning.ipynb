{
 "cells": [
  {
   "cell_type": "code",
   "execution_count": 1,
   "id": "8d2cb8a7",
   "metadata": {},
   "outputs": [],
   "source": [
    "import numpy as np\n",
    "import pandas as pd\n",
    "import matplotlib.pyplot as plt\n",
    "import seaborn as sns\n",
    "from sklearn.preprocessing import LabelEncoder\n",
    "import time\n",
    "import warnings\n",
    "warnings.filterwarnings(\"ignore\")"
   ]
  },
  {
   "cell_type": "markdown",
   "id": "06aef9d2",
   "metadata": {},
   "source": [
    "# Read Data and Preprocessing"
   ]
  },
  {
   "cell_type": "code",
   "execution_count": 11,
   "id": "eb439321",
   "metadata": {},
   "outputs": [
    {
     "name": "stdout",
     "output_type": "stream",
     "text": [
      "(95689, 23) (23922, 23)\n"
     ]
    }
   ],
   "source": [
    "airline = pd.read_csv('./Data/airline_processed.csv')\n",
    "airline_train = pd.read_csv('./Data/airline_train.csv')\n",
    "airline_test = pd.read_csv('./Data/airline_test.csv')\n",
    "print(airline_train.shape, airline_test.shape)"
   ]
  },
  {
   "cell_type": "code",
   "execution_count": 12,
   "id": "f7ab6201",
   "metadata": {},
   "outputs": [
    {
     "name": "stdout",
     "output_type": "stream",
     "text": [
      "(95393, 23) (23862, 23)\n"
     ]
    }
   ],
   "source": [
    "airline_train = airline_train[~airline_train.isna().any(axis=1)].copy()\n",
    "airline_test = airline_test[~airline_test.isna().any(axis=1)].copy()\n",
    "print(airline_train.shape, airline_test.shape)"
   ]
  },
  {
   "cell_type": "code",
   "execution_count": 13,
   "id": "b373abc7",
   "metadata": {},
   "outputs": [],
   "source": [
    "# encode labels\n",
    "for i in airline_train.select_dtypes(include=['object']):\n",
    "    le = LabelEncoder()\n",
    "    airline_train[i] = le.fit_transform(airline_train[i])\n",
    "    airline_test[i] = le.fit_transform(airline_test[i])"
   ]
  },
  {
   "cell_type": "code",
   "execution_count": 14,
   "id": "004ca7a2",
   "metadata": {},
   "outputs": [
    {
     "name": "stdout",
     "output_type": "stream",
     "text": [
      "(95393, 22) (95393,) (23862, 22) (23862,)\n"
     ]
    }
   ],
   "source": [
    "X_train, y_train = airline_train.iloc[:, 1:], airline_train['satisfaction']\n",
    "X_test, y_test = airline_test.iloc[:, 1:], airline_test['satisfaction']\n",
    "print(X_train.shape, y_train.shape, X_test.shape, y_test.shape)"
   ]
  },
  {
   "cell_type": "markdown",
   "id": "c39ee312",
   "metadata": {},
   "source": [
    "# Build Machine Learning Models"
   ]
  },
  {
   "cell_type": "code",
   "execution_count": 33,
   "id": "07beabfc",
   "metadata": {},
   "outputs": [],
   "source": [
    "from sklearn.neighbors import KNeighborsClassifier\n",
    "from sklearn.svm import SVC\n",
    "from sklearn.tree import DecisionTreeClassifier\n",
    "from sklearn.ensemble import RandomForestClassifier\n",
    "from xgboost import XGBClassifier\n",
    "from sklearn.metrics import accuracy_score, confusion_matrix, roc_auc_score\n",
    "import joblib"
   ]
  },
  {
   "cell_type": "code",
   "execution_count": 16,
   "id": "9575615f",
   "metadata": {},
   "outputs": [
    {
     "name": "stdout",
     "output_type": "stream",
     "text": [
      "Start fitting KNN!\n",
      "Fitting KNN done! Spent 00:00.\n",
      "-------------------------------------------\n",
      "Start fitting SVM!\n",
      "Fitting SVM done! Spent 08:06.\n",
      "-------------------------------------------\n",
      "Start fitting DT!\n",
      "Fitting DT done! Spent 00:00.\n",
      "-------------------------------------------\n",
      "Start fitting RF!\n",
      "Fitting RF done! Spent 00:06.\n",
      "-------------------------------------------\n",
      "Start fitting XGB!\n",
      "Fitting XGB done! Spent 00:02.\n",
      "-------------------------------------------\n"
     ]
    }
   ],
   "source": [
    "# fit models\n",
    "knn_clf = KNeighborsClassifier()\n",
    "svm_clf = SVC()\n",
    "dt_clf = DecisionTreeClassifier()\n",
    "rf_clf = RandomForestClassifier()\n",
    "xgb_clf = XGBClassifier()\n",
    "\n",
    "clf_list = [knn_clf, svm_clf, dt_clf, rf_clf, xgb_clf]\n",
    "clf_name_list = ['KNN', 'SVM', 'DT', 'RF', 'XGB']\n",
    "\n",
    "for i in range(len(clf_list)):\n",
    "    clf = clf_list[i]\n",
    "    clf_name = clf_name_list[i]\n",
    "    \n",
    "    start = time.time()\n",
    "    print(f'Start fitting {clf_name}!')\n",
    "    clf.fit(X_train, y_train)\n",
    "    \n",
    "    end = time.time()\n",
    "    duration = end - start\n",
    "    minutes = int(duration // 60)\n",
    "    seconds = round(duration % 60)\n",
    "    \n",
    "    print('Fitting {} done! Spent {}:{}.'.format(\n",
    "        clf_name, str(minutes).rjust(2, '0'), str(seconds).rjust(2, '0')))\n",
    "    print('-------------------------------------------')"
   ]
  },
  {
   "cell_type": "code",
   "execution_count": 34,
   "id": "149969b8",
   "metadata": {},
   "outputs": [],
   "source": [
    "# save the models\n",
    "for clf, clf_name in zip(clf_list, clf_name_list):\n",
    "    joblib.dump(clf, f'./Models/{clf_name}.pkl')"
   ]
  },
  {
   "cell_type": "code",
   "execution_count": 32,
   "id": "39af212f",
   "metadata": {},
   "outputs": [
    {
     "name": "stdout",
     "output_type": "stream",
     "text": [
      "Model: KNN\n",
      "Acc train: 0.8202\t Acc test: 0.714\t Sensitivity: 0.7659\t Specificity: 0.6529\t AUC: 0.7094\n",
      "-------------------------------------------------------------------------------------------------\n",
      "Model: SVM\n",
      "Acc train: 0.612\t Acc test: 0.6116\t Sensitivity: 0.5683\t Specificity: 0.6626\t AUC: 0.6154\n",
      "-------------------------------------------------------------------------------------------------\n",
      "Model: DT\n",
      "Acc train: 1.0\t Acc test: 0.9379\t Sensitivity: 0.9453\t Specificity: 0.9291\t AUC: 0.9372\n",
      "-------------------------------------------------------------------------------------------------\n",
      "Model: RF\n",
      "Acc train: 1.0\t Acc test: 0.9578\t Sensitivity: 0.9532\t Specificity: 0.9631\t AUC: 0.9582\n",
      "-------------------------------------------------------------------------------------------------\n",
      "Model: XGB\n",
      "Acc train: 0.9709\t Acc test: 0.9576\t Sensitivity: 0.9534\t Specificity: 0.9625\t AUC: 0.958\n",
      "-------------------------------------------------------------------------------------------------\n"
     ]
    }
   ],
   "source": [
    "# report metrics\n",
    "metrics_df = pd.DataFrame(columns=['Model', 'Metrics', 'Result'])\n",
    "\n",
    "for clf, clf_name in zip(clf_list, clf_name_list):\n",
    "    # do predictions\n",
    "    y_pred_train = clf.predict(X_train)\n",
    "    y_pred_test = clf.predict(X_test)\n",
    "    \n",
    "    # calculate accuracy\n",
    "    acc_train = accuracy_score(y_train, y_pred_train)\n",
    "    acc_test = accuracy_score(y_test, y_pred_test)\n",
    "    \n",
    "    # calculate sensitivity and specificity\n",
    "    tn, fp, fn, tp = confusion_matrix(y_test, y_pred_test).ravel()\n",
    "    sensitivity = tp / (tp + fn)\n",
    "    specificity = tn / (tn + fp)\n",
    "    \n",
    "    # calculate AUC score\n",
    "    auc = roc_auc_score(y_test, y_pred_test)\n",
    "    \n",
    "    # print the metrics and save them to metrics_df\n",
    "    print('Model:', clf_name)\n",
    "    print('Acc train: {}\\t Acc test: {}\\t Sensitivity: {}\\t Specificity: {}\\t AUC: {}'.format(\n",
    "        round(acc_train, 4), round(acc_test, 4), round(sensitivity, 4), round(specificity, 4), round(auc, 4)))\n",
    "    print('-------------------------------------------------------------------------------------------------')\n",
    "    metrics_one_model = pd.DataFrame({\n",
    "        'Model': [clf_name] * 4,\n",
    "        'Metrics': ['Accuracy', 'Sensitivity', 'Specificity', 'AUC Score'],\n",
    "        'Result': [acc_test, sensitivity, specificity, auc]\n",
    "    })\n",
    "    metrics_df = pd.concat([metrics_df, metrics_one_model]).copy()"
   ]
  },
  {
   "cell_type": "code",
   "execution_count": 35,
   "id": "c3934eb5",
   "metadata": {},
   "outputs": [],
   "source": [
    "# add metrics of logistic and probit models to metrics_df\n",
    "# the results are calculated by R (glm_logistic_probit.R)\n",
    "metrics_logistic = pd.DataFrame({\n",
    "    'Model': ['Logistic'] * 4,\n",
    "    'Metrics': ['Accuracy', 'Sensitivity', 'Specificity', 'AUC Score'],\n",
    "    'Result': [0.8777, 0.8927, 0.8600, 0.951]\n",
    "})\n",
    "metrics_probit = pd.DataFrame({\n",
    "    'Model': ['Probit'] * 4,\n",
    "    'Metrics': ['Accuracy', 'Sensitivity', 'Specificity', 'AUC Score'],\n",
    "    'Result': [0.863, 0.8851, 0.8370, 0.939]\n",
    "})\n",
    "metrics_df = pd.concat([metrics_logistic, metrics_probit, metrics_df]).copy()\n",
    "metrics_df.reset_index(drop=True, inplace=True)"
   ]
  },
  {
   "cell_type": "code",
   "execution_count": 67,
   "id": "e328ef30",
   "metadata": {},
   "outputs": [],
   "source": [
    "# save metric_df\n",
    "metrics_df.to_excel('./Code_outputs/model_metrics.xlsx', index=False)"
   ]
  },
  {
   "cell_type": "code",
   "execution_count": 48,
   "id": "5d2648c0",
   "metadata": {},
   "outputs": [
    {
     "data": {
      "image/png": "[encoded data removed]",
      "text/plain": [
       "<Figure size 720x360 with 1 Axes>"
      ]
     },
     "metadata": {},
     "output_type": "display_data"
    }
   ],
   "source": [
    "# plot the metrics into a bar chart\n",
    "fig, ax = plt.subplots(figsize=(10, 5))\n",
    "sns.set_theme(style=\"whitegrid\", palette=\"pastel\")\n",
    "sns.barplot(data=metrics_df, x='Model', y='Result', hue='Metrics', ax=ax)\n",
    "\n",
    "ax.tick_params(axis='x', labelsize=12)\n",
    "ax.tick_params(axis='y', labelsize=12)\n",
    "ax.legend(fontsize=12, bbox_to_anchor=(1.01, 1), borderaxespad=0)\n",
    "ax.set_xlabel('Model', fontsize=15, weight='bold')\n",
    "ax.set_ylabel('Value', fontsize=15, weight='bold')\n",
    "\n",
    "plt.savefig('./Figures/model_metrics.png', dpi=300, bbox_inches='tight')"
   ]
  },
  {
   "cell_type": "markdown",
   "id": "9788de94",
   "metadata": {},
   "source": [
    "# Random Forest Feature Selection"
   ]
  },
  {
   "cell_type": "code",
   "execution_count": 52,
   "id": "af652474",
   "metadata": {},
   "outputs": [],
   "source": [
    "rf_feature_names = list(X_train.columns)\n",
    "rf_feature_importances = rf_clf.feature_importances_\n",
    "std = np.std([rf_clf.feature_importances_ for tree in rf_clf.estimators_], axis=0)"
   ]
  },
  {
   "cell_type": "code",
   "execution_count": 66,
   "id": "76c178b1",
   "metadata": {},
   "outputs": [
    {
     "data": {
      "image/png": "[encoded data removed]",
      "text/plain": [
       "<Figure size 720x504 with 1 Axes>"
      ]
     },
     "metadata": {},
     "output_type": "display_data"
    }
   ],
   "source": [
    "forest_importances = pd.Series(rf_feature_importances, index=rf_feature_names)\n",
    "\n",
    "fig, ax = plt.subplots(figsize=(10, 7))\n",
    "forest_importances.plot.barh(yerr=std, ax=ax)\n",
    "\n",
    "ax.tick_params(axis='x', labelsize=12)\n",
    "ax.tick_params(axis='y', labelsize=12)\n",
    "ax.set_xlabel('Mean Decrease in Impurity (MDI)', fontsize=15, weight='bold')\n",
    "ax.set_ylabel('Feature', fontsize=15, weight='bold')\n",
    "fig.tight_layout()\n",
    "\n",
    "plt.savefig('./Figures/rf_importance.png', dpi=300, bbox_inches='tight')"
   ]
  },
  {
   "cell_type": "code",
   "execution_count": null,
   "id": "76410336",
   "metadata": {},
   "outputs": [],
   "source": []
  }
 ],
 "metadata": {
  "kernelspec": {
   "display_name": "Python 3 (ipykernel)",
   "language": "python",
   "name": "python3"
  },
  "language_info": {
   "codemirror_mode": {
    "name": "ipython",
    "version": 3
   },
   "file_extension": ".py",
   "mimetype": "text/x-python",
   "name": "python",
   "nbconvert_exporter": "python",
   "pygments_lexer": "ipython3",
   "version": "3.9.7"
  },
  "toc": {
   "base_numbering": 1,
   "nav_menu": {},
   "number_sections": true,
   "sideBar": true,
   "skip_h1_title": false,
   "title_cell": "Table of Contents",
   "title_sidebar": "Contents",
   "toc_cell": false,
   "toc_position": {},
   "toc_section_display": true,
   "toc_window_display": false
  },
  "varInspector": {
   "cols": {
    "lenName": 16,
    "lenType": 16,
    "lenVar": 40
   },
   "kernels_config": {
    "python": {
     "delete_cmd_postfix": "",
     "delete_cmd_prefix": "del ",
     "library": "var_list.py",
     "varRefreshCmd": "print(var_dic_list())"
    },
    "r": {
     "delete_cmd_postfix": ") ",
     "delete_cmd_prefix": "rm(",
     "library": "var_list.r",
     "varRefreshCmd": "cat(var_dic_list()) "
    }
   },
   "oldHeight": 542.84726,
   "position": {
    "height": "39.9942px",
    "left": "758.003px",
    "right": "20px",
    "top": "75.9861px",
    "width": "501.997px"
   },
   "types_to_exclude": [
    "module",
    "function",
    "builtin_function_or_method",
    "instance",
    "_Feature"
   ],
   "varInspector_section_display": "none",
   "window_display": true
  }
 },
 "nbformat": 4,
 "nbformat_minor": 5
}
